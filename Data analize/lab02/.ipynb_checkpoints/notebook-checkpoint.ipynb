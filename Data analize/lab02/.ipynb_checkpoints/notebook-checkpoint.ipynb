{
 "cells": [
  {
   "cell_type": "code",
   "execution_count": null,
   "id": "initial_id",
   "metadata": {
    "collapsed": true,
    "is_executing": true
   },
   "outputs": [],
   "source": [
    "import sqlite3\n",
    "import pandas as pd\n",
    "import matplotlib.pyplot as plt\n",
    "\n",
    "db_filename = 'database/cereals.db'\n",
    "conn = sqlite3.connect(\n",
    "db_filename)\n",
    "c = conn.cursor()\n",
    "c.execute('''SELECT\n",
    "Manufacturer,count(*) FROM\n",
    "cereals GROUP BY Manufacturer''')\n",
    "\n",
    "counts = c.fetchall()\n",
    "manuStats = pd.DataFrame.from_records(counts, columns\n",
    "=['manufacturer', 'value'])\n",
    "plt.pie(manuStats['value'],\n",
    "labels='manufacturer',\n",
    "shadow=False)\n",
    "plt.axis('equal')\n",
    "plt.show()\n"
   ]
  },
  {
   "cell_type": "code",
   "outputs": [],
   "source": [],
   "metadata": {
    "collapsed": false
   },
   "id": "4b25ea5cdf18567e"
  }
 ],
 "metadata": {
  "kernelspec": {
   "display_name": "Python 3",
   "language": "python",
   "name": "python3"
  },
  "language_info": {
   "codemirror_mode": {
    "name": "ipython",
    "version": 2
   },
   "file_extension": ".py",
   "mimetype": "text/x-python",
   "name": "python",
   "nbconvert_exporter": "python",
   "pygments_lexer": "ipython2",
   "version": "2.7.6"
  }
 },
 "nbformat": 4,
 "nbformat_minor": 5
}
