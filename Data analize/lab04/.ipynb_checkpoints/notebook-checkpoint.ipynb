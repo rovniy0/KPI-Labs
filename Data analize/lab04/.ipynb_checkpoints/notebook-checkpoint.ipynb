{
 "cells": [
  {
   "cell_type": "code",
   "execution_count": null,
   "id": "initial_id",
   "metadata": {
    "collapsed": true,
    "is_executing": true
   },
   "outputs": [],
   "source": [
    "from sklearn.datasets import load_wine\n",
    "from scipy.cluster.vq import kmeans2, whiten\n",
    "\n",
    "[data, target] = load_wine(return_X_y=True)\n",
    "whitened = whiten(data)\n",
    "start = [whitened[0],\n",
    " whitened[int(len(whitened)/2)],\n",
    " whitened[len(whitened)-1]]\n",
    "[centroid, label] = kmeans2(whitened, start)\n",
    "errors = 0.0\n",
    "for i in range(len(label)):\n",
    " if target[i] != label[i]:\n",
    "  errors += 1\n",
    "  acc = ((len(data) - errors)\n",
    "         /len(data))\n",
    "  print (acc)\n",
    "from sklearn.datasets import load_wine\n",
    "from sklearn import tree\n",
    "\n",
    "[data, target] = load_wine(return_X_y=True)\n",
    "data_train = data[0:len(data)-2]\n",
    "target_train = target[0:len(data)-2]\n",
    "\n",
    "dtc = tree.DecisionTreeClassifier()\n",
    "dtc = dtc.fit(data_train,\n",
    "              target_train)\n",
    "print (dtc.predict(\n",
    " data[len(data)-1]\n",
    " .reshape(1,-1)))\n",
    "\n",
    "from sklearn.datasets import load_wine\n",
    "from sklearn import svm\n",
    "\n",
    "[data, target] = load_wine(return_X_y=True)\n",
    "data_train = data[0:len(data)-2]\n",
    "target_train = target[0:len(target)-2]\n",
    "\n",
    "# clf = svm.LinearSVC()\n",
    "clf = svm.LinearSVC(dual=\"auto\")\n",
    "clf.fit(data_train, target_train)\n",
    "print (clf.predict(\n",
    " data[len(data)-1].reshape(1,-1)))\n",
    "\n"
   ]
  },
  {
   "cell_type": "code",
   "outputs": [],
   "source": [],
   "metadata": {
    "collapsed": false
   },
   "id": "af4ed929c55f68f"
  }
 ],
 "metadata": {
  "kernelspec": {
   "display_name": "Python 3",
   "language": "python",
   "name": "python3"
  },
  "language_info": {
   "codemirror_mode": {
    "name": "ipython",
    "version": 2
   },
   "file_extension": ".py",
   "mimetype": "text/x-python",
   "name": "python",
   "nbconvert_exporter": "python",
   "pygments_lexer": "ipython2",
   "version": "2.7.6"
  }
 },
 "nbformat": 4,
 "nbformat_minor": 5
}
