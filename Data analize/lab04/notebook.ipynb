{
 "cells": [
  {
   "cell_type": "code",
   "execution_count": 1,
   "id": "initial_id",
   "metadata": {
    "ExecuteTime": {
     "end_time": "2025-04-14T09:40:41.082875500Z",
     "start_time": "2025-04-14T09:40:31.347464400Z"
    }
   },
   "outputs": [
    {
     "name": "stdout",
     "output_type": "stream",
     "text": [
      "0.9943820224719101\n",
      "0.9887640449438202\n",
      "0.9831460674157303\n",
      "0.9775280898876404\n",
      "0.9719101123595506\n",
      "0.9662921348314607\n",
      "0.9606741573033708\n",
      "0.9550561797752809\n",
      "[2]\n",
      "[2]\n"
     ]
    }
   ],
   "source": [
    "from sklearn.datasets import load_wine\n",
    "from scipy.cluster.vq import kmeans2, whiten\n",
    "\n",
    "[data, target] = load_wine(return_X_y=True)\n",
    "whitened = whiten(data)\n",
    "start = [whitened[0],\n",
    " whitened[int(len(whitened)/2)],\n",
    " whitened[len(whitened)-1]]\n",
    "[centroid, label] = kmeans2(whitened, start)\n",
    "errors = 0.0\n",
    "for i in range(len(label)):\n",
    " if target[i] != label[i]:\n",
    "  errors += 1\n",
    "  acc = ((len(data) - errors)\n",
    "         /len(data))\n",
    "  print (acc)\n",
    "from sklearn.datasets import load_wine\n",
    "from sklearn import tree\n",
    "\n",
    "[data, target] = load_wine(return_X_y=True)\n",
    "data_train = data[0:len(data)-2]\n",
    "target_train = target[0:len(data)-2]\n",
    "\n",
    "dtc = tree.DecisionTreeClassifier()\n",
    "dtc = dtc.fit(data_train,\n",
    "              target_train)\n",
    "print (dtc.predict(\n",
    " data[len(data)-1]\n",
    " .reshape(1,-1)))\n",
    "\n",
    "from sklearn.datasets import load_wine\n",
    "from sklearn import svm\n",
    "\n",
    "[data, target] = load_wine(return_X_y=True)\n",
    "data_train = data[0:len(data)-2]\n",
    "target_train = target[0:len(target)-2]\n",
    "\n",
    "# clf = svm.LinearSVC()\n",
    "clf = svm.LinearSVC(dual=\"auto\")\n",
    "clf.fit(data_train, target_train)\n",
    "print (clf.predict(\n",
    " data[len(data)-1].reshape(1,-1)))\n",
    "\n"
   ]
  },
  {
   "cell_type": "code",
   "execution_count": null,
   "id": "af4ed929c55f68f",
   "metadata": {
    "collapsed": false
   },
   "outputs": [],
   "source": []
  }
 ],
 "metadata": {
  "kernelspec": {
   "display_name": "Python [conda env:base] *",
   "language": "python",
   "name": "conda-base-py"
  },
  "language_info": {
   "codemirror_mode": {
    "name": "ipython",
    "version": 3
   },
   "file_extension": ".py",
   "mimetype": "text/x-python",
   "name": "python",
   "nbconvert_exporter": "python",
   "pygments_lexer": "ipython3",
   "version": "3.12.7"
  }
 },
 "nbformat": 4,
 "nbformat_minor": 5
}
