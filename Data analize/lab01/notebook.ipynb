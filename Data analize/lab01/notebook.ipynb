{
 "cells": [
  {
   "cell_type": "code",
   "execution_count": 1,
   "id": "initial_id",
   "metadata": {
    "ExecuteTime": {
     "end_time": "2025-04-14T09:21:04.274068Z",
     "start_time": "2025-04-14T09:21:04.239285400Z"
    }
   },
   "outputs": [
    {
     "name": "stdout",
     "output_type": "stream",
     "text": [
      "G: 7.95\n",
      "K: 7.57\n",
      "N: 1.83\n",
      "P: 8.78\n",
      "Q: 5.25\n",
      "R: 6.12\n",
      "A: 3.00\n"
     ]
    }
   ],
   "source": [
    "import sqlite3\n",
    "\n",
    "db_filename = 'database/cereals-1.db'\n",
    "conn = sqlite3.connect(db_filename)\n",
    "c = conn.cursor()\n",
    "c.execute('SELECT DISTINCT Manufacturer FROM cereals')\n",
    "for manufacturer in c.fetchall():\n",
    "    c.execute('''SELECT avg(Sugars) FROM cereals WHERE \n",
    "    Manufacturer='{0}'\n",
    "    '''.format(manufacturer[0]))\n",
    "    print(\"{0}: {1:.2f}\".format(manufacturer[0], c.fetchall()[0][0]))\n"
   ]
  },
  {
   "cell_type": "code",
   "execution_count": null,
   "id": "e48509a0e692b8b7",
   "metadata": {
    "ExecuteTime": {
     "end_time": "2025-02-16T10:05:45.455274200Z",
     "start_time": "2025-02-16T10:05:45.419703700Z"
    },
    "collapsed": false
   },
   "outputs": [],
   "source": []
  },
  {
   "cell_type": "code",
   "execution_count": null,
   "id": "7a301727617f8331",
   "metadata": {
    "collapsed": false,
    "is_executing": true
   },
   "outputs": [],
   "source": []
  },
  {
   "cell_type": "code",
   "execution_count": null,
   "id": "ca5a661c9a9a72fe",
   "metadata": {
    "collapsed": false
   },
   "outputs": [],
   "source": []
  }
 ],
 "metadata": {
  "kernelspec": {
   "display_name": "Python [conda env:base] *",
   "language": "python",
   "name": "conda-base-py"
  },
  "language_info": {
   "codemirror_mode": {
    "name": "ipython",
    "version": 3
   },
   "file_extension": ".py",
   "mimetype": "text/x-python",
   "name": "python",
   "nbconvert_exporter": "python",
   "pygments_lexer": "ipython3",
   "version": "3.12.7"
  }
 },
 "nbformat": 4,
 "nbformat_minor": 5
}
