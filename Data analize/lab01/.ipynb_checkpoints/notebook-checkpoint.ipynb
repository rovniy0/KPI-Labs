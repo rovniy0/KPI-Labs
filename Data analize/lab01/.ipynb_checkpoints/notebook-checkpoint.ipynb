{
 "cells": [
  {
   "cell_type": "code",
   "execution_count": null,
   "id": "initial_id",
   "metadata": {
    "collapsed": true,
    "is_executing": true
   },
   "outputs": [],
   "source": [
    "import sqlite3\n",
    "\n",
    "db_filename = 'database/cereals-1.db'\n",
    "conn = sqlite3.connect(db_filename)\n",
    "c = conn.cursor()\n",
    "c.execute('SELECT DISTINCT Manufacturer FROM cereals')\n",
    "for manufacturer in c.fetchall():\n",
    "    c.execute('''SELECT avg(Sugars) FROM cereals WHERE \n",
    "    Manufacturer='{0}'\n",
    "    '''.format(manufacturer[0]))\n",
    "    print(\"{0}: {1:.2f}\".format(manufacturer[0], c.fetchall()[0][0]))\n"
   ]
  },
  {
   "cell_type": "code",
   "outputs": [],
   "source": [],
   "metadata": {
    "collapsed": false,
    "is_executing": true
   },
   "id": "e48509a0e692b8b7"
  },
  {
   "cell_type": "code",
   "outputs": [],
   "source": [],
   "metadata": {
    "collapsed": false,
    "is_executing": true
   },
   "id": "7a301727617f8331"
  },
  {
   "cell_type": "code",
   "outputs": [],
   "source": [],
   "metadata": {
    "collapsed": false
   },
   "id": "ca5a661c9a9a72fe"
  }
 ],
 "metadata": {
  "kernelspec": {
   "display_name": "Python 3",
   "language": "python",
   "name": "python3"
  },
  "language_info": {
   "codemirror_mode": {
    "name": "ipython",
    "version": 2
   },
   "file_extension": ".py",
   "mimetype": "text/x-python",
   "name": "python",
   "nbconvert_exporter": "python",
   "pygments_lexer": "ipython2",
   "version": "2.7.6"
  }
 },
 "nbformat": 4,
 "nbformat_minor": 5
}
