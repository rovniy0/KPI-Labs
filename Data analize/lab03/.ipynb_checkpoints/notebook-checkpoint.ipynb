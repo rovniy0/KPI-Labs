{
 "cells": [
  {
   "cell_type": "code",
   "execution_count": null,
   "id": "initial_id",
   "metadata": {
    "collapsed": true,
    "is_executing": true
   },
   "outputs": [],
   "source": [
    "import matplotlib.pyplot as plt\n",
    "import pandas\n",
    "from statsmodels.graphics.mosaicplot import mosaic\n",
    "df = pandas.read_csv(‘database/cereals_conf.csv’, sep=\",\")\n",
    "mosaic(df, [‘Fat’, ‘Protein’])\n",
    "plt.show()\n",
    "import pandas\n",
    "import matplotlib.pyplot as plt\n",
    "import pandas.plotting as plotting\n",
    "df = pandas.read_csv(‘data/cereals_num.csv’, sep=\",\")\n",
    "plotting.parallel_coordinates(df, ‘Cereal’)\n",
    "plt.gca().legend_.remove()\n",
    "plt.show()\n",
    "import numpy as np\n",
    "import matplotlib.pyplot as plt\n",
    "import matplotlib.cm as cm\n",
    "inData = np.loadtxt(‘data/cereals_normed.csv’,\n",
    " delimiter=‘,’,\n",
    " dtype=float,\n",
    "skiprows=1)\n",
    "tData = inData.transpose()\n",
    "plt.imshow(tData,\n",
    " interpolation=‘nearest’,\n",
    " cmap=cm.inferno)\n",
    "plt.axis(‘off’)\n",
    "plt.show()\n",
    "import pandas\n",
    "import matplotlib.pyplot as plt\n",
    "df = pandas.read_csv(‘data/cereals_num.csv’, sep=\",\")\n",
    "plt.scatter(df[‘Fat’], df[‘Protein’])\n",
    "plt.show()\n",
    "from wordcloud import WordCloud\n",
    "import matplotlib.pyplot as plt\n",
    "text = open(‘data/kjb.txt’).read()\n",
    "wordcloud = WordCloud(background_color=‘white’, width=800, height=400)\n",
    "wordcloud.generate(text)\n",
    "plt.imshow(wordcloud, interpolation=‘bilinear’)\n",
    "plt.axis(‘off’)\n",
    "plt.show()"
   ]
  },
  {
   "cell_type": "code",
   "outputs": [],
   "source": [],
   "metadata": {
    "collapsed": false
   },
   "id": "4e2791c372473aed"
  }
 ],
 "metadata": {
  "kernelspec": {
   "display_name": "Python 3",
   "language": "python",
   "name": "python3"
  },
  "language_info": {
   "codemirror_mode": {
    "name": "ipython",
    "version": 2
   },
   "file_extension": ".py",
   "mimetype": "text/x-python",
   "name": "python",
   "nbconvert_exporter": "python",
   "pygments_lexer": "ipython2",
   "version": "2.7.6"
  }
 },
 "nbformat": 4,
 "nbformat_minor": 5
}
