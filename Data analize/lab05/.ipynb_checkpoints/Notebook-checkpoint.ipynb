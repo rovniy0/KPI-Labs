{
 "cells": [
  {
   "cell_type": "code",
   "execution_count": null,
   "id": "initial_id",
   "metadata": {
    "collapsed": true,
    "is_executing": true
   },
   "outputs": [],
   "source": [
    "import matplotlib.pyplot as plt\n",
    "import numpy as np\n",
    "from scipy.cluster.hierarchy import linkage, dendrogram\n",
    "import sqlite3\n",
    "\n",
    "db_filename = 'data/cereals-1.db'\n",
    "\n",
    "conn = sqlite3.connect(db_filename)\n",
    "c = conn.cursor()\n",
    "c.execute('''SELECT Protein, Fat, Carbohydrates FROM cereals''')\n",
    "results = c.fetchall()\n",
    "X = (np.array(results)\n",
    " .reshape(-1,3))\n",
    "links = linkage(X, 'centroid')\n",
    "dendrogram(links)\n",
    "plt.show()\n",
    "\n",
    "from scipy.cluster.vq import whiten\n",
    "\n",
    "Y = whiten(X)\n",
    "links = linkage(Y, 'centroid')\n",
    "dendrogram(links)\n",
    "plt.show()"
   ]
  },
  {
   "cell_type": "code",
   "outputs": [],
   "source": [],
   "metadata": {
    "collapsed": false,
    "is_executing": true
   },
   "id": "55a331c32090fbb6"
  },
  {
   "cell_type": "code",
   "outputs": [],
   "source": [],
   "metadata": {
    "collapsed": false
   },
   "id": "90164dfb499b11af"
  }
 ],
 "metadata": {
  "kernelspec": {
   "display_name": "Python 3",
   "language": "python",
   "name": "python3"
  },
  "language_info": {
   "codemirror_mode": {
    "name": "ipython",
    "version": 2
   },
   "file_extension": ".py",
   "mimetype": "text/x-python",
   "name": "python",
   "nbconvert_exporter": "python",
   "pygments_lexer": "ipython2",
   "version": "2.7.6"
  }
 },
 "nbformat": 4,
 "nbformat_minor": 5
}
